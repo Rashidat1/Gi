{
 "cells": [
  {
   "cell_type": "code",
   "execution_count": null,
   "id": "2869bf7d",
   "metadata": {},
   "outputs": [],
   "source": [
    " rashidat = {\n",
    "     \"age\" : 25,\n",
    "     \"height\" : \"156cm\",\n",
    "     \"complexion\" : \"dark\",\n",
    "     \"location\" : \"Lagos\",\n",
    "     \"hobbies\" : [\"reading\", \"eating\", \"sleeping\"]\n",
    " }\n",
    "print(rashidat[\"age\"])\n",
    "print(rashidat[\"height\"])\n",
    "print(rashidat[\"complexion\"])\n",
    "print(rashidat[\"location\"])\n",
    "print(rashidat[\"hobbies\"])\n",
    "\n",
    "new_location = rashidat[\"location\"] = \"United Kingdom\"\n",
    "print(rashidat)\n",
    "\n",
    "new_hobbies = rashidat[\"hobbies\"]\n",
    "print(new_hobbies[0])\n",
    "new_hobbies.append(\"hiking\")\n",
    "print(rashidat)\n",
    "\n",
    "\n"
   ]
  }
 ],
 "metadata": {
  "kernelspec": {
   "display_name": "Python 3 (ipykernel)",
   "language": "python",
   "name": "python3"
  },
  "language_info": {
   "codemirror_mode": {
    "name": "ipython",
    "version": 3
   },
   "file_extension": ".py",
   "mimetype": "text/x-python",
   "name": "python",
   "nbconvert_exporter": "python",
   "pygments_lexer": "ipython3",
   "version": "3.9.7"
  }
 },
 "nbformat": 4,
 "nbformat_minor": 5
}
